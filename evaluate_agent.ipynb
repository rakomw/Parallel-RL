{
 "cells": [
  {
   "cell_type": "code",
   "execution_count": 2,
   "id": "stock-trademark",
   "metadata": {},
   "outputs": [
    {
     "name": "stdout",
     "output_type": "stream",
     "text": [
      "WARNING:tensorflow:No training configuration found in the save file, so the model was *not* compiled. Compile it manually.\n",
      "Model 5 Average 9.033 Max 16.000\n",
      "WARNING:tensorflow:No training configuration found in the save file, so the model was *not* compiled. Compile it manually.\n",
      "Model 10 Average 5.967 Max 15.000\n",
      "WARNING:tensorflow:No training configuration found in the save file, so the model was *not* compiled. Compile it manually.\n",
      "Model 15 Average 6.467 Max 15.000\n",
      "WARNING:tensorflow:No training configuration found in the save file, so the model was *not* compiled. Compile it manually.\n",
      "Model 20 Average 10.200 Max 36.000\n",
      "WARNING:tensorflow:No training configuration found in the save file, so the model was *not* compiled. Compile it manually.\n",
      "Model 25 Average 7.933 Max 24.000\n",
      "WARNING:tensorflow:No training configuration found in the save file, so the model was *not* compiled. Compile it manually.\n",
      "Model 30 Average 7.067 Max 18.000\n",
      "WARNING:tensorflow:No training configuration found in the save file, so the model was *not* compiled. Compile it manually.\n",
      "Model 35 Average 6.933 Max 19.000\n",
      "WARNING:tensorflow:No training configuration found in the save file, so the model was *not* compiled. Compile it manually.\n",
      "Model 40 Average 10.667 Max 27.000\n",
      "WARNING:tensorflow:No training configuration found in the save file, so the model was *not* compiled. Compile it manually.\n",
      "Model 45 Average 10.433 Max 29.000\n"
     ]
    }
   ],
   "source": [
    "import gym\n",
    "import random\n",
    "import os\n",
    "import numpy as np\n",
    "import tensorflow as tf\n",
    "\n",
    "from collections      import deque\n",
    "from keras import models\n",
    "from keras import optimizers\n",
    "from keras import layers\n",
    "from baselines.common.atari_wrappers import make_atari, wrap_deepmind \n",
    "\n",
    "atari = make_atari(\"SpaceInvadersNoFrameskip-v4\")\n",
    "env = wrap_deepmind(atari, frame_stack=True, scale=True)\n",
    "\n",
    "for k in range(5,50,5):\n",
    "    model = models.load_model(\"mybaselines/spaceinvaders/weights{}.h5\".format(k))\n",
    "    model.compile(loss='mse', optimizer=optimizers.Adam(lr=0.001))\n",
    "\n",
    "    num_episodes = 30\n",
    "    scores = np.zeros(num_episodes)\n",
    "\n",
    "    for i in range(num_episodes):\n",
    "        state = env.reset()\n",
    "        done = False\n",
    "        episode_reward = 0\n",
    "        while not done:\n",
    "            #env.render()\n",
    "            state = np.expand_dims(state, 0)\n",
    "            expected = model.predict(state)\n",
    "            action = np.argmax(expected[0])\n",
    "\n",
    "            next_state, reward, done, _ = env.step(action)\n",
    "            episode_reward += reward \n",
    "            state = next_state\n",
    "        scores[i] = episode_reward\n",
    "        env.close()\n",
    "        #print(\"Episode {} Score {}\".format(i,scores[i]))\n",
    "    print(\"Model {} Average {:.3f} Max {:.3f}\".format(\n",
    "        k, np.mean(scores), np.max(scores)))"
   ]
  },
  {
   "cell_type": "code",
   "execution_count": null,
   "id": "cubic-appendix",
   "metadata": {},
   "outputs": [],
   "source": []
  }
 ],
 "metadata": {
  "kernelspec": {
   "display_name": "Python 3",
   "language": "python",
   "name": "python3"
  },
  "language_info": {
   "codemirror_mode": {
    "name": "ipython",
    "version": 3
   },
   "file_extension": ".py",
   "mimetype": "text/x-python",
   "name": "python",
   "nbconvert_exporter": "python",
   "pygments_lexer": "ipython3",
   "version": "3.8.7"
  }
 },
 "nbformat": 4,
 "nbformat_minor": 5
}
